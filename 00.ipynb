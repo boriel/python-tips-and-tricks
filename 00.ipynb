{
 "cells": [
  {
   "cell_type": "markdown",
   "metadata": {},
   "source": [
    "# Python Tips and Tricks"
   ]
  },
  {
   "cell_type": "markdown",
   "metadata": {},
   "source": [
    "## Intro"
   ]
  },
  {
   "cell_type": "markdown",
   "metadata": {},
   "source": [
    "In **python** is an object (really): "
   ]
  },
  {
   "cell_type": "code",
   "execution_count": 1,
   "metadata": {},
   "outputs": [
    {
     "name": "stdout",
     "output_type": "stream",
     "text": [
      "1\n"
     ]
    }
   ],
   "source": [
    "print(1)"
   ]
  },
  {
   "cell_type": "code",
   "execution_count": 2,
   "metadata": {},
   "outputs": [
    {
     "name": "stdout",
     "output_type": "stream",
     "text": [
      "<class 'int'>\n"
     ]
    }
   ],
   "source": [
    "print(type(1))"
   ]
  },
  {
   "cell_type": "code",
   "execution_count": 3,
   "metadata": {},
   "outputs": [
    {
     "name": "stdout",
     "output_type": "stream",
     "text": [
      "<class 'int'>\n"
     ]
    }
   ],
   "source": [
    "print((1).__class__)"
   ]
  },
  {
   "cell_type": "code",
   "execution_count": 4,
   "metadata": {},
   "outputs": [
    {
     "name": "stdout",
     "output_type": "stream",
     "text": [
      "<class 'float'> <class 'float'>\n"
     ]
    }
   ],
   "source": [
    "# Now with a float number\n",
    "print(type(1.5), (1.5).__class__)"
   ]
  },
  {
   "cell_type": "markdown",
   "metadata": {},
   "source": [
    "As you can see, even a plain number is an object. To access its properties you have to enclose it between\n",
    "parenthesis, to avoid a syntax error since the dot (.) is also used for decimals.\n",
    "Let's play a bit more"
   ]
  },
  {
   "cell_type": "code",
   "execution_count": null,
   "metadata": {},
   "outputs": [],
   "source": [
    "(15).bit_length()  # How many bits do I need to represent 15?"
   ]
  },
  {
   "cell_type": "code",
   "execution_count": null,
   "metadata": {},
   "outputs": [],
   "source": [
    "(0.25).as_integer_ratio()  # How can I represent 0.25 as a ratio? => 1/4"
   ]
  },
  {
   "cell_type": "markdown",
   "metadata": {},
   "source": [
    "A curiosity: Python integers can be **arbitrary larger**!"
   ]
  },
  {
   "cell_type": "code",
   "execution_count": null,
   "metadata": {},
   "outputs": [],
   "source": [
    "2**1234"
   ]
  },
  {
   "cell_type": "code",
   "execution_count": null,
   "metadata": {},
   "outputs": [],
   "source": [
    "2**1234 + 1"
   ]
  },
  {
   "cell_type": "markdown",
   "metadata": {},
   "source": [
    "Now lets play with _strings_:"
   ]
  },
  {
   "cell_type": "code",
   "execution_count": null,
   "metadata": {},
   "outputs": [],
   "source": [
    "print(type(\"hi\"), \"hi\".__class__)"
   ]
  },
  {
   "cell_type": "code",
   "execution_count": null,
   "metadata": {},
   "outputs": [],
   "source": [
    "\"hello\".upper()"
   ]
  },
  {
   "cell_type": "code",
   "execution_count": null,
   "metadata": {},
   "outputs": [],
   "source": [
    "\"hello\".replace(\"h\", \"cam\").capitalize()"
   ]
  },
  {
   "cell_type": "markdown",
   "metadata": {},
   "source": [
    "Python is also a _strongly dynamic typed_ language. This means the type of a variable can change during\n",
    "its lifetime (though this is not recommended) and that some operations might need type conversion to be done:"
   ]
  },
  {
   "cell_type": "code",
   "execution_count": null,
   "metadata": {},
   "outputs": [],
   "source": [
    "a = 1\n",
    "print(a)\n",
    "\n",
    "a = \"a\"  # we have changed variable's type to str\n",
    "print(a)\n",
    "\n",
    "# print(a + 0)  # TypeError! In JavaScript this returns \"a0\""
   ]
  },
  {
   "cell_type": "markdown",
   "metadata": {},
   "source": [
    "## Higher level abstractions\n",
    "\n",
    "### Iterables, Collections and Sequences\n",
    "\n",
    "An _Iterable_ is a type (class) that can be read _sequencially_ returning one element at a time\n",
    "(for example, in a `for` loop).<br />\n",
    "An `str` (string) is an _Iterable_:"
   ]
  },
  {
   "cell_type": "code",
   "execution_count": null,
   "metadata": {},
   "outputs": [],
   "source": [
    "for letter in 'hello':\n",
    "    print(letter)"
   ]
  },
  {
   "cell_type": "markdown",
   "metadata": {},
   "source": [
    "A _Collection_ is an _Iterable_ that return the number of elements it contains using the `len()` [built-in function](https://docs.python.org/3/library/functions.html).\n",
    "\n",
    "Now this is important: there are several built-in functions that can be applied to objects depending on its type or implementation. This comes from the _functional paradigm_. Python is a multiparadigm language, so you don't have to stick to one or another.\n",
    "\n",
    "For example, some people complains that `len()` _should be a property_ of string. While this is not the case, nothing prevents you to subclass `str` and implement it yourself! See:"
   ]
  },
  {
   "cell_type": "code",
   "execution_count": null,
   "metadata": {},
   "outputs": [],
   "source": [
    "class MyStr(str):\n",
    "    \"\"\" Implement my own strings with .length property\n",
    "    \"\"\"\n",
    "    @property\n",
    "    def length(self):\n",
    "        return len(self)\n",
    "\n",
    "mystr = MyStr(\"hello\")\n",
    "print(mystr, len(mystr), mystr.length)"
   ]
  },
  {
   "cell_type": "markdown",
   "metadata": {},
   "source": [
    "Anything that has a `len()` evaluates to `False` if has 0 elements, `True` otherwise.\n",
    "Instead of writing:\n",
    "```python\n",
    "users = get_user_list()\n",
    "if len(users) == 0:\n",
    "    ...\n",
    "```\n",
    "\n",
    "It's considered more idiomatic to write:\n",
    "\n",
    "```python\n",
    "users = get_user_list()\n",
    "if not users:\n",
    "```\n",
    "\n",
    "The 2nd one reads like _if no users_ which is very close to English language (a very idiomatic code requires almost no comments). However there are cases were you want to explicity check for `len(x) == 0`, mostly for semantic purposes."
   ]
  },
  {
   "cell_type": "markdown",
   "metadata": {},
   "source": [
    "### IN operator\n",
    "A _Collection_ also allows the _operator_ `in` to be used to check for the existence of an element within it. In python, _strings_ are collections:"
   ]
  },
  {
   "cell_type": "code",
   "execution_count": null,
   "metadata": {},
   "outputs": [],
   "source": [
    "'l' in 'Hello'  # Does Hello contains the letter 'l' at least once?"
   ]
  },
  {
   "cell_type": "code",
   "execution_count": null,
   "metadata": {},
   "outputs": [],
   "source": [
    "len(range(10))"
   ]
  },
  {
   "cell_type": "code",
   "execution_count": null,
   "metadata": {},
   "outputs": [],
   "source": [
    "(5 in range(10))"
   ]
  },
  {
   "cell_type": "markdown",
   "metadata": {},
   "source": [
    "Finally, a _Sequence_ is a _Collection_ whose elements _can be randomly accessed_ using [ ]. Strings are sequences:"
   ]
  },
  {
   "cell_type": "code",
   "execution_count": null,
   "metadata": {},
   "outputs": [],
   "source": [
    "\"Hello\"[4]"
   ]
  },
  {
   "cell_type": "markdown",
   "metadata": {},
   "source": [
    "String are _immutable sequences_. \n",
    "```python\n",
    "a = \"Hello\"\n",
    "a[4] = \"a\"  # Error!\n",
    "```"
   ]
  },
  {
   "cell_type": "code",
   "execution_count": null,
   "metadata": {},
   "outputs": [],
   "source": [
    "# Question: is range(10) a Sequence?\n",
    "range(10)[4]"
   ]
  },
  {
   "cell_type": "markdown",
   "metadata": {},
   "source": [
    "Now, with all of that, let's play more generic sequences: `list`, `dicts`, `tuples`"
   ]
  },
  {
   "cell_type": "markdown",
   "metadata": {},
   "source": [
    "## List and Tuples\n",
    "Both list and tuples can be created from an _Iterable_ using their respective constructors. For example, given the iterable `range(10)`:"
   ]
  },
  {
   "cell_type": "code",
   "execution_count": 9,
   "metadata": {},
   "outputs": [
    {
     "data": {
      "text/plain": [
       "[0, 1, 2, 3, 4, 5, 6, 7, 8, 9]"
      ]
     },
     "execution_count": 9,
     "metadata": {},
     "output_type": "execute_result"
    }
   ],
   "source": [
    "list(range(10))"
   ]
  },
  {
   "cell_type": "code",
   "execution_count": 10,
   "metadata": {},
   "outputs": [
    {
     "data": {
      "text/plain": [
       "(0, 1, 2, 3, 4, 5, 6, 7, 8, 9)"
      ]
     },
     "execution_count": 10,
     "metadata": {},
     "output_type": "execute_result"
    }
   ],
   "source": [
    "tuple(range(10))"
   ]
  },
  {
   "cell_type": "markdown",
   "metadata": {},
   "source": [
    "Inline creation (not using the constructor) for lists can be done using `[ ]` and for tuples `(,)`.\n",
    "In fact, for creating tuples, *only the comma is needed*; the comma is the instantiation operator and it's perfectly ok (but not needed) to leave a _trailing comma_."
   ]
  },
  {
   "cell_type": "code",
   "execution_count": 15,
   "metadata": {},
   "outputs": [],
   "source": [
    "# Quiz\n",
    "# Create a variable containing an empty list and an empty tuple using the inline syntax"
   ]
  },
  {
   "cell_type": "code",
   "execution_count": 16,
   "metadata": {},
   "outputs": [],
   "source": [
    "# Quiz\n",
    "# Create a variable containing a tuple of 1 element using inline syntax"
   ]
  },
  {
   "cell_type": "code",
   "execution_count": null,
   "metadata": {},
   "outputs": [],
   "source": [
    "# Quiz\n",
    "# Create a string of 30 'a' characters with less than 10 characters of code!\n",
    "# Do the same for a tuple and an list containing 30 'a' characters"
   ]
  },
  {
   "cell_type": "markdown",
   "metadata": {},
   "source": [
    "Remember **list** are mutable sequences, **tuples** are not. Once a tuple is created, you cannot append, delete or overwrite elements on it (but this needs further explanation)."
   ]
  },
  {
   "cell_type": "markdown",
   "metadata": {},
   "source": [
    "### Sequence Slicing\n",
    "\n",
    "For any sequence you can obtain an _slice_, that is an interval of elements between them. "
   ]
  },
  {
   "cell_type": "code",
   "execution_count": 24,
   "metadata": {},
   "outputs": [
    {
     "data": {
      "text/plain": [
       "[0, 1]"
      ]
     },
     "execution_count": 24,
     "metadata": {},
     "output_type": "execute_result"
    }
   ],
   "source": [
    "a = [0, 1, 2, 3, 4, 5, 6, 7]\n",
    "# A slice:\n",
    "a[0:2] # from the first element to just before the alement at position 2"
   ]
  },
  {
   "cell_type": "code",
   "execution_count": 25,
   "metadata": {},
   "outputs": [
    {
     "data": {
      "text/plain": [
       "[0, 1, 2]"
      ]
     },
     "execution_count": 25,
     "metadata": {},
     "output_type": "execute_result"
    }
   ],
   "source": [
    "a[:3]  # From the beginning to just before the element at position 3"
   ]
  },
  {
   "cell_type": "code",
   "execution_count": 26,
   "metadata": {},
   "outputs": [
    {
     "data": {
      "text/plain": [
       "[2, 3, 4, 5, 6, 7]"
      ]
     },
     "execution_count": 26,
     "metadata": {},
     "output_type": "execute_result"
    }
   ],
   "source": [
    "a[2:]  # From the "
   ]
  },
  {
   "cell_type": "code",
   "execution_count": 27,
   "metadata": {},
   "outputs": [
    {
     "data": {
      "text/plain": [
       "7"
      ]
     },
     "execution_count": 27,
     "metadata": {},
     "output_type": "execute_result"
    }
   ],
   "source": [
    "a[-1]  # The last element"
   ]
  },
  {
   "cell_type": "code",
   "execution_count": 28,
   "metadata": {},
   "outputs": [
    {
     "data": {
      "text/plain": [
       "[0, 1, 2, 3, 4, 5, 6]"
      ]
     },
     "execution_count": 28,
     "metadata": {},
     "output_type": "execute_result"
    }
   ],
   "source": [
    "a[:-1]  # From the beginning to just before the last one"
   ]
  },
  {
   "cell_type": "code",
   "execution_count": 31,
   "metadata": {},
   "outputs": [
    {
     "data": {
      "text/plain": [
       "[0, 2, 4, 6]"
      ]
     },
     "execution_count": 31,
     "metadata": {},
     "output_type": "execute_result"
    }
   ],
   "source": [
    "# With steps\n",
    "a[::2]  # even numbers"
   ]
  },
  {
   "cell_type": "code",
   "execution_count": 36,
   "metadata": {},
   "outputs": [
    {
     "data": {
      "text/plain": [
       "[1, 3, 5, 7]"
      ]
     },
     "execution_count": 36,
     "metadata": {},
     "output_type": "execute_result"
    }
   ],
   "source": [
    "a[1::2]  # odd numbers"
   ]
  },
  {
   "cell_type": "code",
   "execution_count": 34,
   "metadata": {},
   "outputs": [
    {
     "data": {
      "text/plain": [
       "[0, 1, 2, 3, 4, 5, 6, 7]"
      ]
     },
     "execution_count": 34,
     "metadata": {},
     "output_type": "execute_result"
    }
   ],
   "source": [
    "a[:]  # The entire sequence"
   ]
  },
  {
   "cell_type": "code",
   "execution_count": 41,
   "metadata": {},
   "outputs": [
    {
     "data": {
      "text/plain": [
       "[7, 6, 5, 4]"
      ]
     },
     "execution_count": 41,
     "metadata": {},
     "output_type": "execute_result"
    }
   ],
   "source": [
    "a[-1:3:-1]  # From the last (-1), just before the 3rd one, backwards! (-1)"
   ]
  },
  {
   "cell_type": "markdown",
   "metadata": {},
   "source": [
    "Slicing works for **any** sequence."
   ]
  },
  {
   "cell_type": "code",
   "execution_count": 42,
   "metadata": {},
   "outputs": [],
   "source": [
    "# Quiz\n",
    "# Given the string \"Hello world!\", revert it in a single line! "
   ]
  },
  {
   "cell_type": "markdown",
   "metadata": {},
   "source": [
    "If the Sequence is mutable, you can change a slice!!"
   ]
  },
  {
   "cell_type": "code",
   "execution_count": 44,
   "metadata": {},
   "outputs": [],
   "source": [
    "# Quiz\n",
    "# Declare b = list(range(10))\n",
    "# then execute b[1:3] = ['a', 'a', 'a'] and see what happens"
   ]
  },
  {
   "cell_type": "code",
   "execution_count": 45,
   "metadata": {},
   "outputs": [],
   "source": [
    "# Quiz\n",
    "# Declare b = list(range(10))\n",
    "# Once created, remove odd numbers\n",
    "# Hint: slices can be deleted using `del`"
   ]
  },
  {
   "cell_type": "markdown",
   "metadata": {},
   "source": [
    "Further reading:\n",
    "https://railsware.com/blog/python-for-machine-learning-indexing-and-slicing-for-lists-tuples-strings-and-other-sequential-types/"
   ]
  },
  {
   "cell_type": "markdown",
   "metadata": {},
   "source": [
    "## Generators\n",
    "Generators are functions that return one value at a time _in a lazy manner_.\n",
    "They are _Iterables_ (but not _Collections_ nor _Sequences_). It's very easy to create them using `yield`:"
   ]
  },
  {
   "cell_type": "code",
   "execution_count": 51,
   "metadata": {},
   "outputs": [
    {
     "name": "stdout",
     "output_type": "stream",
     "text": [
      "Inicio\n",
      "1\n",
      "Antes del 2\n",
      "2\n",
      "Antes del 3\n",
      "3\n",
      "Final\n"
     ]
    }
   ],
   "source": [
    "def my_generator():\n",
    "    print(\"Inicio\")\n",
    "    yield 1\n",
    "    print(\"Antes del 2\")\n",
    "    yield 2\n",
    "    print(\"Antes del 3\")\n",
    "    yield 3\n",
    "    print(\"Final\")\n",
    "    \n",
    "for i in my_generator():\n",
    "    print(i)"
   ]
  },
  {
   "cell_type": "code",
   "execution_count": 57,
   "metadata": {},
   "outputs": [
    {
     "name": "stdout",
     "output_type": "stream",
     "text": [
      "Inicio\n",
      "Antes del 2\n",
      "Antes del 3\n",
      "Final\n",
      "[1, 2, 3] \n",
      "\n",
      "Inicio\n",
      "Antes del 2\n",
      "Antes del 3\n",
      "Final\n",
      "(1, 2, 3)\n"
     ]
    }
   ],
   "source": [
    "# Remember we can initialize a Sequence from any Iterable\n",
    "print(list(my_generator()), '\\n')\n",
    "\n",
    "print(tuple(my_generator()))"
   ]
  },
  {
   "cell_type": "code",
   "execution_count": 66,
   "metadata": {},
   "outputs": [
    {
     "name": "stdout",
     "output_type": "stream",
     "text": [
      "Inicio\n",
      "1\n",
      "Antes del 2\n",
      "2\n"
     ]
    }
   ],
   "source": [
    "# We can use next() to get the next element from a generator\n",
    "gen = my_generator()\n",
    "\n",
    "print(next(gen))\n",
    "print(next(gen))"
   ]
  },
  {
   "cell_type": "markdown",
   "metadata": {},
   "source": [
    "**Notice** the execution. The generator `gen()` is _lazy_. The execution of the function is _paused_ (no messages on the screen) and _continued_ when the next value is required.\n",
    "\n",
    "We can declare a generator *inline* using `(<expr> for var in <Iterable>)`!"
   ]
  },
  {
   "cell_type": "code",
   "execution_count": 70,
   "metadata": {},
   "outputs": [
    {
     "data": {
      "text/plain": [
       "<generator object <genexpr> at 0x7fa4f5da70b0>"
      ]
     },
     "execution_count": 70,
     "metadata": {},
     "output_type": "execute_result"
    }
   ],
   "source": [
    "(x * x for x in [1, 2, 3, 4])"
   ]
  },
  {
   "cell_type": "code",
   "execution_count": 73,
   "metadata": {},
   "outputs": [
    {
     "data": {
      "text/plain": [
       "<generator object <genexpr> at 0x7fa4f5d40200>"
      ]
     },
     "execution_count": 73,
     "metadata": {},
     "output_type": "execute_result"
    }
   ],
   "source": [
    "# Since or previous generator is also an iterable, we can chain generators\n",
    "(x for x in my_generator())\n",
    "# But it's still dormant... waiting to be awakened (i.e. with for or next)"
   ]
  },
  {
   "cell_type": "code",
   "execution_count": 75,
   "metadata": {},
   "outputs": [
    {
     "name": "stdout",
     "output_type": "stream",
     "text": [
      "Inicio\n",
      "Antes del 2\n",
      "Antes del 3\n",
      "Final\n"
     ]
    },
    {
     "data": {
      "text/plain": [
       "[1, 2, 3]"
      ]
     },
     "execution_count": 75,
     "metadata": {},
     "output_type": "execute_result"
    }
   ],
   "source": [
    "# If instead of parenthesis we use brackets, a list will be generated. This is called a *list comprehension*:\n",
    "[x for x in my_generator()]"
   ]
  },
  {
   "cell_type": "code",
   "execution_count": 76,
   "metadata": {},
   "outputs": [
    {
     "data": {
      "text/plain": [
       "[0, 2, 4, 6, 8, 10, 12, 14, 16, 18]"
      ]
     },
     "execution_count": 76,
     "metadata": {},
     "output_type": "execute_result"
    }
   ],
   "source": [
    "[x * 2 for x in range(10)]  # The <expr> can be any expression, even a function call"
   ]
  },
  {
   "cell_type": "code",
   "execution_count": 77,
   "metadata": {},
   "outputs": [
    {
     "data": {
      "text/plain": [
       "[0, 1, 2, 3, 4]"
      ]
     },
     "execution_count": 77,
     "metadata": {},
     "output_type": "execute_result"
    }
   ],
   "source": [
    "[x for x in range(10) if x < 5]  # the right side can contain a filtering condition!"
   ]
  },
  {
   "cell_type": "code",
   "execution_count": 79,
   "metadata": {},
   "outputs": [],
   "source": [
    "# Quiz: Write all squares of numbers from 0 to 20 if they are even\n",
    "# Expected response: [0, 4, 16, 36, 64, 100, 144, 196, 256, 324]"
   ]
  },
  {
   "cell_type": "markdown",
   "metadata": {},
   "source": [
    "List comprehensions can be nested. However, this can be difficult to read.\n",
    "It's not recommended to nest them more than 2 levels.\n",
    "The rule of thumb is they're read from left to right, this way:\n",
    "\n",
    "```python\n",
    "# Get the users names of all programmers in lowercase\n",
    "\n",
    "languages = {\n",
    "    \"java\": [\"Anna\", \"Joan\", \"Jose\"],\n",
    "    \"python\": [\"Vicky\", \"Per\", \"Dave\"],\n",
    "    \"haskell\": [\"Julian\"]\n",
    "}\n",
    "\n",
    "# Get all the users:\n",
    "users = []\n",
    "for user_list in languages:  # iterate languages\n",
    "    for user in user_list:\n",
    "        users.append(user.lower())\n",
    "```\n",
    "\n",
    "Now the inner part (the expression `user.lower()` goes first, and the `for` lines are copied from beginning to end\n",
    "one after another:\n",
    "```python\n",
    "users = [user.lower() for user_list in languages for user in user_list]\n",
    "```\n"
   ]
  },
  {
   "cell_type": "code",
   "execution_count": null,
   "metadata": {},
   "outputs": [],
   "source": []
  }
 ],
 "metadata": {
  "kernelspec": {
   "display_name": "Python 3",
   "language": "python",
   "name": "python3"
  },
  "language_info": {
   "codemirror_mode": {
    "name": "ipython",
    "version": 3
   },
   "file_extension": ".py",
   "mimetype": "text/x-python",
   "name": "python",
   "nbconvert_exporter": "python",
   "pygments_lexer": "ipython3",
   "version": "3.8.6"
  },
  "pycharm": {
   "stem_cell": {
    "cell_type": "raw",
    "metadata": {
     "collapsed": false
    },
    "source": [
     "\n"
    ]
   }
  }
 },
 "nbformat": 4,
 "nbformat_minor": 1
}
